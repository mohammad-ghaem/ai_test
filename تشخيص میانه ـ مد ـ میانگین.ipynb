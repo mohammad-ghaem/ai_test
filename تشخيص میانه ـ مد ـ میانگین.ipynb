{
 "cells": [
  {
   "cell_type": "code",
   "execution_count": 2,
   "metadata": {},
   "outputs": [
    {
     "data": {
      "text/html": [
       "<div>\n",
       "<style scoped>\n",
       "    .dataframe tbody tr th:only-of-type {\n",
       "        vertical-align: middle;\n",
       "    }\n",
       "\n",
       "    .dataframe tbody tr th {\n",
       "        vertical-align: top;\n",
       "    }\n",
       "\n",
       "    .dataframe thead th {\n",
       "        text-align: right;\n",
       "    }\n",
       "</style>\n",
       "<table border=\"1\" class=\"dataframe\">\n",
       "  <thead>\n",
       "    <tr style=\"text-align: right;\">\n",
       "      <th></th>\n",
       "      <th>title</th>\n",
       "      <th>count</th>\n",
       "      <th>nameid</th>\n",
       "    </tr>\n",
       "  </thead>\n",
       "  <tbody>\n",
       "    <tr>\n",
       "      <th>0</th>\n",
       "      <td>test1</td>\n",
       "      <td>2</td>\n",
       "      <td>32</td>\n",
       "    </tr>\n",
       "    <tr>\n",
       "      <th>1</th>\n",
       "      <td>test1</td>\n",
       "      <td>2</td>\n",
       "      <td>32</td>\n",
       "    </tr>\n",
       "    <tr>\n",
       "      <th>2</th>\n",
       "      <td>test1</td>\n",
       "      <td>3</td>\n",
       "      <td>32</td>\n",
       "    </tr>\n",
       "  </tbody>\n",
       "</table>\n",
       "</div>"
      ],
      "text/plain": [
       "   title  count  nameid \n",
       "0  test1      2       32\n",
       "1  test1      2       32\n",
       "2  test1      3       32"
      ]
     },
     "execution_count": 2,
     "metadata": {},
     "output_type": "execute_result"
    }
   ],
   "source": [
    "%matplotlib inline\n",
    "\n",
    "import numpy as np\n",
    "import pandas as pd\n",
    "\n",
    "test= pd.read_csv(\"Book1.csv\")\n",
    "test.head()\n"
   ]
  },
  {
   "cell_type": "code",
   "execution_count": 3,
   "metadata": {},
   "outputs": [
    {
     "data": {
      "text/html": [
       "<div>\n",
       "<style scoped>\n",
       "    .dataframe tbody tr th:only-of-type {\n",
       "        vertical-align: middle;\n",
       "    }\n",
       "\n",
       "    .dataframe tbody tr th {\n",
       "        vertical-align: top;\n",
       "    }\n",
       "\n",
       "    .dataframe thead th {\n",
       "        text-align: right;\n",
       "    }\n",
       "</style>\n",
       "<table border=\"1\" class=\"dataframe\">\n",
       "  <thead>\n",
       "    <tr style=\"text-align: right;\">\n",
       "      <th></th>\n",
       "      <th>title</th>\n",
       "      <th>count</th>\n",
       "      <th>nameid</th>\n",
       "    </tr>\n",
       "  </thead>\n",
       "  <tbody>\n",
       "    <tr>\n",
       "      <th>2</th>\n",
       "      <td>test1</td>\n",
       "      <td>3</td>\n",
       "      <td>32</td>\n",
       "    </tr>\n",
       "  </tbody>\n",
       "</table>\n",
       "</div>"
      ],
      "text/plain": [
       "   title  count  nameid \n",
       "2  test1      3       32"
      ]
     },
     "execution_count": 3,
     "metadata": {},
     "output_type": "execute_result"
    }
   ],
   "source": [
    "test.tail(1)"
   ]
  },
  {
   "cell_type": "code",
   "execution_count": 9,
   "metadata": {},
   "outputs": [
    {
     "data": {
      "text/plain": [
       "25004.273254893567"
      ]
     },
     "execution_count": 9,
     "metadata": {},
     "output_type": "execute_result"
    }
   ],
   "source": [
    "number=np.random.normal(25000,1500,20000)\n",
    "np.mean(number)"
   ]
  },
  {
   "cell_type": "code",
   "execution_count": 11,
   "metadata": {},
   "outputs": [
    {
     "data": {
      "image/png": "[encoded data removed]",
      "text/plain": [
       "<Figure size 432x288 with 1 Axes>"
      ]
     },
     "metadata": {
      "needs_background": "light"
     },
     "output_type": "display_data"
    }
   ],
   "source": [
    "import matplotlib.pyplot as plt\n",
    "\n",
    "plt.hist(number,40)\n",
    "plt.show()"
   ]
  },
  {
   "cell_type": "code",
   "execution_count": 13,
   "metadata": {},
   "outputs": [
    {
     "data": {
      "text/plain": [
       "24995.34616622917"
      ]
     },
     "execution_count": 13,
     "metadata": {},
     "output_type": "execute_result"
    }
   ],
   "source": [
    "np.median(number)"
   ]
  },
  {
   "cell_type": "code",
   "execution_count": 14,
   "metadata": {},
   "outputs": [
    {
     "data": {
      "text/plain": [
       "74998.12353636311"
      ]
     },
     "execution_count": 14,
     "metadata": {},
     "output_type": "execute_result"
    }
   ],
   "source": [
    "number=np.append(number,[100000,2000,1000000000])\n",
    "np.mean(number)"
   ]
  },
  {
   "cell_type": "code",
   "execution_count": 6,
   "metadata": {},
   "outputs": [
    {
     "data": {
      "text/plain": [
       "array([34, 46, 47, 37, 38, 45, 35, 40, 38, 21, 36, 23, 46, 47, 37, 43, 25,\n",
       "       25, 35, 37, 29, 44, 34, 40, 43, 49, 30, 47, 31, 23, 42, 20, 49, 34,\n",
       "       39, 35, 48, 34, 39, 29, 46, 21, 30, 28, 25, 33, 46, 29, 21, 27, 21,\n",
       "       39, 34, 45, 29, 36, 27, 34, 42, 36, 48, 31, 34, 44, 27, 30, 21, 38,\n",
       "       46, 20, 33, 27, 34, 24, 39, 33, 43, 44, 45, 28, 28, 32, 22, 21, 25,\n",
       "       30, 44, 28, 30, 45, 41, 32, 25, 22, 23, 26, 20, 22, 22, 24, 43, 22,\n",
       "       22, 29, 38, 42, 31, 45, 32, 28, 47, 45, 20, 33, 25, 39, 46, 42, 26,\n",
       "       36, 33, 30, 43, 41, 22, 29, 34, 42, 48, 28, 43, 49, 20, 45, 27, 47,\n",
       "       39, 27, 45, 37, 24, 45, 45, 32, 23, 43, 32, 45, 21, 28, 21, 25, 35,\n",
       "       30, 35, 25, 26, 35, 36, 35, 48, 24, 48, 35, 25, 27, 42, 44, 45, 44,\n",
       "       41, 46, 27, 40, 46, 25, 23, 21, 38, 44, 40, 35, 35, 27, 37, 34, 39,\n",
       "       20, 24, 22, 33, 30, 49, 40, 34, 37, 35, 31, 39, 44, 28, 31, 47, 29,\n",
       "       38, 42, 38, 44, 48, 43, 26, 48, 44, 40, 39, 49, 29, 47, 26, 38, 33,\n",
       "       39, 49, 37, 48, 36, 38, 46, 30, 28, 36, 28, 24, 28, 35, 48, 45, 45,\n",
       "       40, 22, 41, 27, 35, 20, 23, 42, 27, 43, 46, 32, 44, 23, 22, 44, 32,\n",
       "       24, 34, 47, 24, 36, 42, 23, 21, 48, 21, 33, 36, 20, 27, 31, 38, 32,\n",
       "       31, 31, 46, 28, 47, 28, 26, 35, 47, 40, 22, 48, 22, 49, 43, 40, 33,\n",
       "       49, 43, 36, 37, 47, 24, 46, 44, 48, 22, 45, 32, 25, 37, 23, 31, 33,\n",
       "       40, 24, 33, 21, 40, 35, 33, 41, 43, 43, 22, 36, 21, 27, 37, 32, 48,\n",
       "       45, 42, 31, 23, 26, 38, 31, 43, 39, 49, 26, 20, 45, 44, 45, 43, 23,\n",
       "       47, 24, 36, 21, 41, 48, 31, 20, 47, 26, 24, 24, 44, 44, 38, 48, 32,\n",
       "       32, 44, 45, 45, 32, 33, 22, 23, 25, 33, 38, 46, 49, 24, 25, 41, 28,\n",
       "       21, 28, 32, 28, 25, 36, 36, 48, 46, 42, 49, 39, 45, 41, 22, 42, 47,\n",
       "       40, 36, 37, 43, 36, 34, 24, 25, 35, 48, 27, 35, 31, 38, 34, 21, 24,\n",
       "       32, 49, 41, 41, 40, 45, 35, 29, 45, 41, 34, 31, 20, 47, 40, 42, 23,\n",
       "       48, 32, 29, 34, 27, 35, 29, 48, 25, 43, 24, 33, 43, 27, 41, 21, 36,\n",
       "       20, 30, 39, 21, 30, 40, 37, 33, 35, 25, 48, 30, 44, 30, 30, 42, 34,\n",
       "       47, 21, 25, 49, 25, 21, 44, 20, 47, 48, 45, 33, 20, 38, 48, 37, 23,\n",
       "       22, 37, 32, 24, 22, 38, 49, 48, 28, 34, 42, 21, 48, 24, 41, 36, 35,\n",
       "       33, 20, 42, 39, 46, 20, 26, 43, 40, 41, 39, 34, 28, 48, 44, 45, 43,\n",
       "       31, 40, 22, 25, 26, 39, 21, 47, 48, 42, 27, 21, 38, 39, 48, 33, 32,\n",
       "       43, 29, 37, 21, 42, 23, 22, 27, 25, 34, 37, 45, 25, 38, 46, 24, 24,\n",
       "       29, 28, 25, 45, 35, 42, 48, 32, 24, 46, 34, 33, 37, 48, 24, 39, 47,\n",
       "       28, 31, 33, 23, 40, 47, 38, 21, 47, 20, 21, 40, 32, 41, 31, 37, 34,\n",
       "       48, 26, 32, 42, 42, 43, 44, 49, 29, 24, 22, 21, 36, 26, 29, 39, 29,\n",
       "       42, 42, 36, 26, 21])"
      ]
     },
     "execution_count": 6,
     "metadata": {},
     "output_type": "execute_result"
    }
   ],
   "source": [
    "import numpy as np\n",
    "ages=np.random.randint(20,high=50,size=600)\n",
    "\n",
    "ages"
   ]
  },
  {
   "cell_type": "code",
   "execution_count": 2,
   "metadata": {},
   "outputs": [
    {
     "ename": "NameError",
     "evalue": "name 'ages' is not defined",
     "output_type": "error",
     "traceback": [
      "\u001b[0;31m---------------------------------------------------------------------------\u001b[0m",
      "\u001b[0;31mNameError\u001b[0m                                 Traceback (most recent call last)",
      "\u001b[0;32m<ipython-input-2-bd4f71323dc2>\u001b[0m in \u001b[0;36m<module>\u001b[0;34m\u001b[0m\n\u001b[1;32m      1\u001b[0m \u001b[0;32mfrom\u001b[0m \u001b[0mscipy\u001b[0m \u001b[0;32mimport\u001b[0m \u001b[0mstats\u001b[0m\u001b[0;34m\u001b[0m\u001b[0;34m\u001b[0m\u001b[0m\n\u001b[1;32m      2\u001b[0m \u001b[0;34m\u001b[0m\u001b[0m\n\u001b[0;32m----> 3\u001b[0;31m \u001b[0mstats\u001b[0m\u001b[0;34m.\u001b[0m\u001b[0mmode\u001b[0m\u001b[0;34m(\u001b[0m\u001b[0mages\u001b[0m\u001b[0;34m)\u001b[0m\u001b[0;34m\u001b[0m\u001b[0;34m\u001b[0m\u001b[0m\n\u001b[0m",
      "\u001b[0;31mNameError\u001b[0m: name 'ages' is not defined"
     ]
    }
   ],
   "source": [
    "from scipy import stats\n",
    "\n",
    "stats.mode(ages)"
   ]
  },
  {
   "cell_type": "code",
   "execution_count": 21,
   "metadata": {},
   "outputs": [
    {
     "data": {
      "text/plain": [
       "34.0"
      ]
     },
     "execution_count": 21,
     "metadata": {},
     "output_type": "execute_result"
    }
   ],
   "source": [
    "np.median(ages)"
   ]
  },
  {
   "cell_type": "code",
   "execution_count": 22,
   "metadata": {},
   "outputs": [
    {
     "data": {
      "text/plain": [
       "34.17333333333333"
      ]
     },
     "execution_count": 22,
     "metadata": {},
     "output_type": "execute_result"
    }
   ],
   "source": [
    "np.mean(ages)"
   ]
  },
  {
   "cell_type": "code",
   "execution_count": null,
   "metadata": {},
   "outputs": [],
   "source": []
  }
 ],
 "metadata": {
  "kernelspec": {
   "display_name": "Python 3",
   "language": "python",
   "name": "python3"
  },
  "language_info": {
   "codemirror_mode": {
    "name": "ipython",
    "version": 3
   },
   "file_extension": ".py",
   "mimetype": "text/x-python",
   "name": "python",
   "nbconvert_exporter": "python",
   "pygments_lexer": "ipython3",
   "version": "3.8.5"
  }
 },
 "nbformat": 4,
 "nbformat_minor": 4
}
